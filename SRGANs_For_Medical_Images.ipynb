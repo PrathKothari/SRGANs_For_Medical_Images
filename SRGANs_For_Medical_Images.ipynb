{
  "cells": [
    {
      "cell_type": "code",
      "execution_count": null,
      "metadata": {
        "id": "1Oeg4q5MMnsA"
      },
      "outputs": [],
      "source": [
        "# !pip install kaggle"
      ]
    },
    {
      "cell_type": "code",
      "execution_count": null,
      "metadata": {
        "id": "puVnPfQ1NIsE"
      },
      "outputs": [],
      "source": [
        "# from google.colab import files\n",
        "# files.upload()"
      ]
    },
    {
      "cell_type": "code",
      "execution_count": null,
      "metadata": {
        "colab": {
          "base_uri": "https://localhost:8080/"
        },
        "id": "n5zSwRLlnGPY",
        "outputId": "53176481-c2a7-4bae-c6f1-e3e2856584fa"
      },
      "outputs": [
        {
          "output_type": "stream",
          "name": "stdout",
          "text": [
            "Mounted at /content/drive\n"
          ]
        }
      ],
      "source": [
        "from google.colab import drive\n",
        "import zipfile\n",
        "import os\n",
        "\n",
        "# Mount Google Drive\n",
        "drive.mount('/content/drive')"
      ]
    },
    {
      "cell_type": "code",
      "execution_count": null,
      "metadata": {
        "colab": {
          "base_uri": "https://localhost:8080/"
        },
        "id": "21Ad2qP6pi1Z",
        "outputId": "b9684606-e6c8-463e-b8dc-375dc47a549d"
      },
      "outputs": [
        {
          "output_type": "stream",
          "name": "stdout",
          "text": [
            "Dataset extracted to /content/data_dir\n"
          ]
        }
      ],
      "source": [
        "zip_file_path = '/content/drive/My Drive/Dataset/images_001.zip'  # Update with your actual file path\n",
        "data_dir = '/content/data_dir'\n",
        "\n",
        "# Create the target directory if it doesn't exist\n",
        "os.makedirs(data_dir, exist_ok=True)\n",
        "\n",
        "# Unzip the dataset\n",
        "with zipfile.ZipFile(zip_file_path, 'r') as zip_ref:\n",
        "    zip_ref.extractall(data_dir)\n",
        "\n",
        "print(f'Dataset extracted to {data_dir}')"
      ]
    },
    {
      "cell_type": "code",
      "execution_count": null,
      "metadata": {
        "id": "xhTth1eLpxF3"
      },
      "outputs": [],
      "source": [
        "dataset_path = '/content/data_dir/images'"
      ]
    },
    {
      "cell_type": "code",
      "execution_count": null,
      "metadata": {
        "id": "UQFSmrzuZU5Q"
      },
      "outputs": [],
      "source": [
        "import os\n",
        "import torch\n",
        "import torchvision.transforms as transforms\n",
        "from torch.utils.data import Dataset, DataLoader\n",
        "from PIL import Image\n",
        "import random\n",
        "\n",
        "device = \"cuda\" if torch.cuda.is_available() else \"cpu\"\n",
        "\n",
        "# Define image size\n",
        "low_res_size = (128, 128)   # Low-Resolution image\n",
        "high_res_size = (512, 512)  # High-Resolution image\n",
        "\n",
        "# Define dataset class\n",
        "class SRDataset(Dataset):\n",
        "    def __init__(self, dataset_path, augment=True):\n",
        "        self.image_files = [os.path.join(dataset_path, f) for f in os.listdir(dataset_path) if f.endswith(('.png', '.jpg', '.jpeg'))]\n",
        "        # self.augment = augment\n",
        "\n",
        "        # Define normalization for 3 RGB channels\n",
        "        self.normalize = transforms.Normalize(mean=[0.5, 0.5, 0.5], std=[0.5, 0.5, 0.5])\n",
        "\n",
        "        # Low-resolution transformations\n",
        "        self.lr_transform = transforms.Compose([\n",
        "            transforms.Resize(low_res_size, interpolation=transforms.InterpolationMode.BICUBIC),\n",
        "            transforms.ToTensor(),\n",
        "            self.normalize\n",
        "        ])\n",
        "\n",
        "        # High-resolution transformations\n",
        "        self.hr_transform = transforms.Compose([\n",
        "            transforms.Resize(high_res_size, interpolation=transforms.InterpolationMode.BICUBIC),\n",
        "            transforms.ToTensor(),\n",
        "            self.normalize\n",
        "        ])\n",
        "\n",
        "        # Data augmentation transformations\n",
        "        # self.augment_transforms = transforms.Compose([\n",
        "        #     transforms.RandomHorizontalFlip(p=0.5),  # Flip images randomly\n",
        "        #     transforms.RandomRotation(degrees=5),   # Rotate randomly ±5 degrees\n",
        "        #     transforms.ColorJitter(brightness=0.2, contrast=0.2, saturation=0.2, hue=0.02)  # Improve diversity\n",
        "        # ])\n",
        "\n",
        "    def __len__(self):\n",
        "        return len(self.image_files)\n",
        "\n",
        "    def __getitem__(self, idx):\n",
        "        img = Image.open(self.image_files[idx]).convert(\"RGB\")  # Load and convert to RGB\n",
        "\n",
        "        # if self.augment:\n",
        "        #     img = self.augment_transforms(img)  # Apply data augmentation\n",
        "\n",
        "        hr_img = self.hr_transform(img)  # High-res version\n",
        "        lr_img = self.lr_transform(img)  # Low-res version\n",
        "        return lr_img, hr_img\n",
        "\n",
        "# Load dataset\n",
        "dataset = SRDataset(dataset_path, augment=True)"
      ]
    },
    {
      "cell_type": "code",
      "execution_count": null,
      "metadata": {
        "id": "VYLEBR_r-EOQ"
      },
      "outputs": [],
      "source": [
        "split_size = 0.2\n",
        "split_index = int(len(dataset) * (1 - split_size))\n",
        "train_dataset, val_dataset = torch.utils.data.random_split(dataset, [split_index, len(dataset) - split_index])"
      ]
    },
    {
      "cell_type": "code",
      "execution_count": null,
      "metadata": {
        "colab": {
          "base_uri": "https://localhost:8080/"
        },
        "id": "eaqmLZJx-XNa",
        "outputId": "8bfb9358-c369-4183-9cae-bc032908e156"
      },
      "outputs": [
        {
          "output_type": "execute_result",
          "data": {
            "text/plain": [
              "(3999, 1000)"
            ]
          },
          "metadata": {},
          "execution_count": 8
        }
      ],
      "source": [
        "len(train_dataset), len(val_dataset)"
      ]
    },
    {
      "cell_type": "code",
      "execution_count": null,
      "metadata": {
        "colab": {
          "base_uri": "https://localhost:8080/"
        },
        "id": "g_xb5yab9lbz",
        "outputId": "076ec51a-44e4-4d26-f9e8-d425b5e08c1a"
      },
      "outputs": [
        {
          "output_type": "stream",
          "name": "stdout",
          "text": [
            "Low-Res Image Shape: torch.Size([8, 3, 128, 128])\n",
            "High-Res Image Shape: torch.Size([8, 3, 512, 512])\n"
          ]
        }
      ],
      "source": [
        "# Create DataLoader\n",
        "batch_size = 8\n",
        "train_dataloader = DataLoader(train_dataset, batch_size=batch_size, shuffle=True, num_workers=2, pin_memory=True)\n",
        "test_dataloader = DataLoader(val_dataset, batch_size=batch_size, shuffle=False, num_workers=2, pin_memory=True)\n",
        "\n",
        "# Test data loading\n",
        "for lr, hr in train_dataloader:\n",
        "    print(\"Low-Res Image Shape:\", lr.shape)\n",
        "    print(\"High-Res Image Shape:\", hr.shape)\n",
        "    break\n"
      ]
    },
    {
      "cell_type": "code",
      "execution_count": null,
      "metadata": {
        "colab": {
          "base_uri": "https://localhost:8080/"
        },
        "id": "farbBmiM8t__",
        "outputId": "3c9ead98-fda7-4c8c-f129-8594c47f8145"
      },
      "outputs": [
        {
          "output_type": "stream",
          "name": "stdout",
          "text": [
            "Total images in dataset: 4999\n"
          ]
        }
      ],
      "source": [
        "\n",
        "print(f\"Total images in dataset: {len(dataset)}\")"
      ]
    },
    {
      "cell_type": "code",
      "execution_count": null,
      "metadata": {
        "colab": {
          "base_uri": "https://localhost:8080/"
        },
        "id": "sGf0xYP680xk",
        "outputId": "72ce19a3-a1cb-4a4c-fbf7-60f219651fe9"
      },
      "outputs": [
        {
          "output_type": "execute_result",
          "data": {
            "text/plain": [
              "(torch.Size([3, 128, 128]), torch.Size([3, 512, 512]))"
            ]
          },
          "metadata": {},
          "execution_count": 11
        }
      ],
      "source": [
        "import matplotlib.pyplot as plt\n",
        "\n",
        "# Get one sample from the dataset\n",
        "lr_img, hr_img = dataset[2]\n",
        "lr_img.shape, hr_img.shape\n",
        "# Convert tensors to NumPy arrays for visualization\n"
      ]
    },
    {
      "cell_type": "code",
      "execution_count": null,
      "metadata": {
        "colab": {
          "base_uri": "https://localhost:8080/",
          "height": 337
        },
        "id": "HUxfz4ve9KiW",
        "outputId": "d26d75da-e344-4162-c4f7-72670c1cc967"
      },
      "outputs": [
        {
          "output_type": "display_data",
          "data": {
            "text/plain": [
              "<Figure size 800x400 with 2 Axes>"
            ],
            "image/png": "[encoded data removed]"
          },
          "metadata": {}
        }
      ],
      "source": [
        "lr_img = lr_img.permute(1, 2, 0).numpy() * 0.5 + 0.5  # Denormalize\n",
        "hr_img = hr_img.permute(1, 2, 0).numpy() * 0.5 + 0.5\n",
        "\n",
        "# Plot\n",
        "plt.figure(figsize=(8, 4))\n",
        "plt.subplot(1, 2, 1)\n",
        "plt.imshow(lr_img)\n",
        "plt.title(\"Low-Resolution Image\")\n",
        "\n",
        "plt.subplot(1, 2, 2)\n",
        "plt.imshow(hr_img)\n",
        "plt.title(\"High-Resolution Image\")\n",
        "\n",
        "plt.show()"
      ]
    },
    {
      "cell_type": "code",
      "execution_count": null,
      "metadata": {
        "id": "GMYP2ucpRaJK"
      },
      "outputs": [],
      "source": [
        "import torch\n",
        "import torch.nn as nn\n",
        "import math\n",
        "\n",
        "class ResidualBlock(nn.Module):\n",
        "    def __init__(self, channels, use_dropout=False, use_bn=False):\n",
        "        super(ResidualBlock, self).__init__()\n",
        "        layers = [\n",
        "            nn.Conv2d(channels, channels, kernel_size=3, stride=1, padding=1)\n",
        "        ]\n",
        "\n",
        "        if use_bn:\n",
        "            layers.append(nn.BatchNorm2d(channels))  # Insert BN after first conv\n",
        "        layers.append(nn.PReLU())\n",
        "\n",
        "        if use_dropout:\n",
        "            layers.append(nn.Dropout(0.2))\n",
        "\n",
        "        layers.append(nn.Conv2d(channels, channels, kernel_size=3, stride=1, padding=1))\n",
        "\n",
        "        self.block = nn.Sequential(*layers)\n",
        "\n",
        "    def forward(self, x):\n",
        "        return x + self.block(x)  # Residual connection\n",
        "\n",
        "\n",
        "class Generator(nn.Module):\n",
        "    def __init__(self, num_res_blocks=12, scale_factor=4):\n",
        "        super(Generator, self).__init__()\n",
        "        self.scale_factor = scale_factor\n",
        "        assert math.log2(scale_factor).is_integer(), \"Scale factor must be a power of 2\"\n",
        "\n",
        "        # Initial conv\n",
        "        self.initial = nn.Sequential(\n",
        "            nn.Conv2d(3, 64, kernel_size=9, stride=1, padding=4),\n",
        "            nn.PReLU()\n",
        "        )\n",
        "\n",
        "        # Residual blocks\n",
        "        self.res_blocks = nn.Sequential(*[ResidualBlock(64, use_dropout=True, use_bn=True) for _ in range(num_res_blocks)])\n",
        "\n",
        "        # Mid conv (no activation to match original SRGAN)\n",
        "        self.mid_conv = nn.Conv2d(64, 64, kernel_size=3, stride=1, padding=1)\n",
        "\n",
        "        # Upsampling\n",
        "        self.upsample = self.make_upsample_layers(scale_factor)\n",
        "\n",
        "        # Final output layer\n",
        "        self.final = nn.Sequential(\n",
        "            nn.Conv2d(64, 3, kernel_size=9, stride=1, padding=4),\n",
        "            nn.Tanh()  # Output in range [-1, 1]\n",
        "        )\n",
        "\n",
        "        self._initialize_weights()\n",
        "\n",
        "    def make_upsample_layers(self, scale_factor):\n",
        "        layers = []\n",
        "        num_blocks = int(math.log2(scale_factor))\n",
        "        for _ in range(num_blocks):\n",
        "            layers += [\n",
        "                nn.Conv2d(64, 256, kernel_size=3, stride=1, padding=1),\n",
        "                nn.PixelShuffle(2),\n",
        "                nn.PReLU()\n",
        "            ]\n",
        "        return nn.Sequential(*layers)\n",
        "\n",
        "    def _initialize_weights(self):\n",
        "        for m in self.modules():\n",
        "            if isinstance(m, nn.Conv2d):\n",
        "                nn.init.kaiming_normal_(m.weight, a=math.sqrt(5), mode='fan_in', nonlinearity='leaky_relu')\n",
        "                if m.bias is not None:\n",
        "                    nn.init.zeros_(m.bias)\n",
        "\n",
        "    def forward(self, x):\n",
        "        out1 = self.initial(x)\n",
        "        out2 = self.res_blocks(out1)\n",
        "        out3 = self.mid_conv(out2)\n",
        "        out3 += out1  # Global skip connection\n",
        "        out4 = self.upsample(out3)\n",
        "        return self.final(out4)"
      ]
    },
    {
      "cell_type": "code",
      "execution_count": null,
      "metadata": {
        "id": "pdMBbikLRyou"
      },
      "outputs": [],
      "source": [
        "import torch\n",
        "import torch.nn as nn\n",
        "from torch.nn.utils import spectral_norm\n",
        "\n",
        "class Discriminator(nn.Module):\n",
        "    def __init__(self):\n",
        "        super(Discriminator, self).__init__()\n",
        "\n",
        "        def discriminator_block(in_channels, out_channels, stride=1, use_norm=True):\n",
        "            layers = [spectral_norm(nn.Conv2d(in_channels, out_channels, kernel_size=3, stride=stride, padding=1))]\n",
        "            if use_norm:\n",
        "                layers.append(nn.InstanceNorm2d(out_channels, affine=True))  # Affine=True to learn scale & shift\n",
        "            layers.append(nn.LeakyReLU(0.2, inplace=True))\n",
        "            return nn.Sequential(*layers)\n",
        "\n",
        "        self.features = nn.Sequential(\n",
        "            discriminator_block(3, 64, stride=1, use_norm=False),  # First layer, no normalization\n",
        "            discriminator_block(64, 128, stride=2),\n",
        "            discriminator_block(128, 256, stride=2),\n",
        "            discriminator_block(256, 512, stride=2),\n",
        "            spectral_norm(nn.Conv2d(512, 1, kernel_size=3, stride=1, padding=1))  # PatchGAN-style\n",
        "        )\n",
        "\n",
        "        self.classifier = nn.Sequential(\n",
        "            nn.AdaptiveAvgPool2d((1, 1)),  # Global pooling for full-image discrimination\n",
        "            nn.Flatten()\n",
        "        )\n",
        "\n",
        "        self._initialize_weights()\n",
        "\n",
        "    def _initialize_weights(self):\n",
        "        for m in self.modules():\n",
        "            if isinstance(m, nn.Conv2d):\n",
        "                nn.init.kaiming_normal_(m.weight, a=math.sqrt(5), mode='fan_in', nonlinearity='leaky_relu')\n",
        "                if m.bias is not None:\n",
        "                    nn.init.zeros_(m.bias)\n",
        "\n",
        "    def forward(self, x):\n",
        "        features = self.features(x)\n",
        "        out = self.classifier(features)\n",
        "        return out"
      ]
    },
    {
      "cell_type": "code",
      "execution_count": null,
      "metadata": {
        "id": "ml8pEKNRTbsg"
      },
      "outputs": [],
      "source": [
        "import torch\n",
        "import torch.nn as nn\n",
        "import torchvision.models as models\n",
        "\n",
        "class VGGFeatureExtractor(nn.Module):\n",
        "    def __init__(self, layer=36, use_input_norm=True):\n",
        "        \"\"\"\n",
        "        Extracts features from VGG19 for perceptual/content loss.\n",
        "\n",
        "        Args:\n",
        "            layer (int): Layer up to which features are extracted.\n",
        "            use_input_norm (bool): Whether to apply ImageNet normalization.\n",
        "        \"\"\"\n",
        "        super().__init__()\n",
        "        vgg19 = models.vgg19(weights=models.VGG19_Weights.DEFAULT).features\n",
        "        self.feature_extractor = nn.Sequential(*list(vgg19.children())[:layer])\n",
        "        self.feature_extractor.eval()\n",
        "\n",
        "        for param in self.feature_extractor.parameters():\n",
        "            param.requires_grad = False\n",
        "\n",
        "        self.use_input_norm = use_input_norm\n",
        "        if use_input_norm:\n",
        "            self.register_buffer(\"mean\", torch.tensor([0.485, 0.456, 0.406]).view(1, 3, 1, 1))\n",
        "            self.register_buffer(\"std\", torch.tensor([0.229, 0.224, 0.225]).view(1, 3, 1, 1))\n",
        "\n",
        "    def forward(self, x):\n",
        "        \"\"\"\n",
        "        Args:\n",
        "            x (Tensor): Input image tensor of shape (B, 3, H, W), values in [0, 1] or [0, 255].\n",
        "\n",
        "        Returns:\n",
        "            Tensor: VGG feature map from specified layer.\n",
        "        \"\"\"\n",
        "        if self.use_input_norm:\n",
        "            x = x / 255.0 if x.max() > 1 else x\n",
        "            x = (x - self.mean) / self.std\n",
        "        return self.feature_extractor(x)\n"
      ]
    },
    {
      "cell_type": "code",
      "execution_count": null,
      "metadata": {
        "colab": {
          "base_uri": "https://localhost:8080/"
        },
        "id": "VUqTqQOFThao",
        "outputId": "db191a5f-eda7-471b-d54e-9114210da164"
      },
      "outputs": [
        {
          "output_type": "stream",
          "name": "stderr",
          "text": [
            "Downloading: \"https://download.pytorch.org/models/vgg19-dcbb9e9d.pth\" to /root/.cache/torch/hub/checkpoints/vgg19-dcbb9e9d.pth\n",
            "100%|██████████| 548M/548M [00:05<00:00, 106MB/s]\n"
          ]
        },
        {
          "output_type": "execute_result",
          "data": {
            "text/plain": [
              "VGGFeatureExtractor(\n",
              "  (feature_extractor): Sequential(\n",
              "    (0): Conv2d(3, 64, kernel_size=(3, 3), stride=(1, 1), padding=(1, 1))\n",
              "    (1): ReLU(inplace=True)\n",
              "    (2): Conv2d(64, 64, kernel_size=(3, 3), stride=(1, 1), padding=(1, 1))\n",
              "    (3): ReLU(inplace=True)\n",
              "    (4): MaxPool2d(kernel_size=2, stride=2, padding=0, dilation=1, ceil_mode=False)\n",
              "    (5): Conv2d(64, 128, kernel_size=(3, 3), stride=(1, 1), padding=(1, 1))\n",
              "    (6): ReLU(inplace=True)\n",
              "    (7): Conv2d(128, 128, kernel_size=(3, 3), stride=(1, 1), padding=(1, 1))\n",
              "    (8): ReLU(inplace=True)\n",
              "    (9): MaxPool2d(kernel_size=2, stride=2, padding=0, dilation=1, ceil_mode=False)\n",
              "    (10): Conv2d(128, 256, kernel_size=(3, 3), stride=(1, 1), padding=(1, 1))\n",
              "    (11): ReLU(inplace=True)\n",
              "    (12): Conv2d(256, 256, kernel_size=(3, 3), stride=(1, 1), padding=(1, 1))\n",
              "    (13): ReLU(inplace=True)\n",
              "    (14): Conv2d(256, 256, kernel_size=(3, 3), stride=(1, 1), padding=(1, 1))\n",
              "    (15): ReLU(inplace=True)\n",
              "    (16): Conv2d(256, 256, kernel_size=(3, 3), stride=(1, 1), padding=(1, 1))\n",
              "    (17): ReLU(inplace=True)\n",
              "    (18): MaxPool2d(kernel_size=2, stride=2, padding=0, dilation=1, ceil_mode=False)\n",
              "    (19): Conv2d(256, 512, kernel_size=(3, 3), stride=(1, 1), padding=(1, 1))\n",
              "    (20): ReLU(inplace=True)\n",
              "    (21): Conv2d(512, 512, kernel_size=(3, 3), stride=(1, 1), padding=(1, 1))\n",
              "    (22): ReLU(inplace=True)\n",
              "    (23): Conv2d(512, 512, kernel_size=(3, 3), stride=(1, 1), padding=(1, 1))\n",
              "    (24): ReLU(inplace=True)\n",
              "    (25): Conv2d(512, 512, kernel_size=(3, 3), stride=(1, 1), padding=(1, 1))\n",
              "    (26): ReLU(inplace=True)\n",
              "    (27): MaxPool2d(kernel_size=2, stride=2, padding=0, dilation=1, ceil_mode=False)\n",
              "    (28): Conv2d(512, 512, kernel_size=(3, 3), stride=(1, 1), padding=(1, 1))\n",
              "    (29): ReLU(inplace=True)\n",
              "    (30): Conv2d(512, 512, kernel_size=(3, 3), stride=(1, 1), padding=(1, 1))\n",
              "    (31): ReLU(inplace=True)\n",
              "    (32): Conv2d(512, 512, kernel_size=(3, 3), stride=(1, 1), padding=(1, 1))\n",
              "    (33): ReLU(inplace=True)\n",
              "    (34): Conv2d(512, 512, kernel_size=(3, 3), stride=(1, 1), padding=(1, 1))\n",
              "    (35): ReLU(inplace=True)\n",
              "  )\n",
              ")"
            ]
          },
          "metadata": {},
          "execution_count": 16
        }
      ],
      "source": [
        "generator = Generator()\n",
        "discriminator = Discriminator()\n",
        "feature_extractor = VGGFeatureExtractor()\n",
        "\n",
        "# Move models to GPU if available\n",
        "device = torch.device(\"cuda\" if torch.cuda.is_available() else \"cpu\")\n",
        "generator.to(device)\n",
        "discriminator.to(device)\n",
        "feature_extractor.to(device)\n"
      ]
    },
    {
      "cell_type": "code",
      "execution_count": null,
      "metadata": {
        "id": "BbdYfngZXoSq",
        "colab": {
          "base_uri": "https://localhost:8080/"
        },
        "outputId": "6d136655-52fd-4d30-ab27-f126585af462"
      },
      "outputs": [
        {
          "output_type": "execute_result",
          "data": {
            "text/plain": [
              "<All keys matched successfully>"
            ]
          },
          "metadata": {},
          "execution_count": 18
        }
      ],
      "source": [
        "generator_path = '/content/drive/MyDrive/Models/generator_epoch_6 (1).pth'  # change this path\n",
        "generator.load_state_dict(torch.load(generator_path, map_location=device))\n",
        "\n",
        "# discriminator_path = '/content/drive/MyDrive/Models/discriminator_epoch_9.pth'  # change this path\n",
        "# discriminator.load_state_dict(torch.load(discriminator_path, map_location=device))"
      ]
    },
    {
      "cell_type": "code",
      "execution_count": null,
      "metadata": {
        "id": "Yfp3T-uuNWxi"
      },
      "outputs": [],
      "source": [
        "import torch.nn as nn\n",
        "import torch.optim as optim\n",
        "\n",
        "# --- Loss Functions ---\n",
        "adversarial_loss = nn.MSELoss()       # Stable for GANs compared to BCE\n",
        "content_loss = nn.SmoothL1Loss()      # Robust to outliers, smoother gradients than MSE\n",
        "pixel_loss = nn.L1Loss()              # Preserves fine detail better than MSE\n",
        "\n",
        "# --- Optimizers ---\n",
        "learning_rate_G = 2e-4\n",
        "learning_rate_D = 2e-4\n",
        "\n",
        "optimizer_G = optim.AdamW(\n",
        "    generator.parameters(),\n",
        "    lr=learning_rate_G,\n",
        "    betas=(0.5, 0.999),\n",
        "    weight_decay=1e-6  # Helps with generalization\n",
        ")\n",
        "\n",
        "optimizer_D = optim.Adam(\n",
        "    discriminator.parameters(),\n",
        "    lr=learning_rate_D,\n",
        "    betas=(0.5, 0.999)\n",
        ")\n",
        "\n",
        "# --- Learning Rate Schedulers ---\n",
        "scheduler_G = optim.lr_scheduler.StepLR(optimizer_G, step_size=5, gamma=0.5)\n",
        "scheduler_D = optim.lr_scheduler.StepLR(optimizer_D, step_size=5, gamma=0.5)\n"
      ]
    },
    {
      "cell_type": "code",
      "execution_count": null,
      "metadata": {
        "id": "SQm9peZCP0VX"
      },
      "outputs": [],
      "source": [
        "import torch\n",
        "import torchvision.utils as vutils\n",
        "import os\n",
        "\n",
        "def save_image(tensor, filename, normalize=True):\n",
        "    \"\"\"\n",
        "    Saves a PyTorch tensor as an image file.\n",
        "\n",
        "    Parameters:\n",
        "        tensor (torch.Tensor): Image tensor (BxCxHxW).\n",
        "        filename (str): Path to save the image.\n",
        "        normalize (bool): Whether to normalize pixel values to [0,1].\n",
        "    \"\"\"\n",
        "    os.makedirs(os.path.dirname(filename), exist_ok=True)  # Ensure directory exists\n",
        "    vutils.save_image(tensor, filename, normalize=normalize)\n"
      ]
    },
    {
      "cell_type": "code",
      "execution_count": null,
      "metadata": {
        "colab": {
          "base_uri": "https://localhost:8080/"
        },
        "id": "rVScjPa_Oxap",
        "outputId": "dcdea887-0284-4847-940b-30288d54ef5a"
      },
      "outputs": [
        {
          "output_type": "stream",
          "name": "stderr",
          "text": [
            "<ipython-input-24-a1e84dcbc1b2>:14: FutureWarning: `torch.cuda.amp.GradScaler(args...)` is deprecated. Please use `torch.amp.GradScaler('cuda', args...)` instead.\n",
            "  scaler = GradScaler()\n",
            "<ipython-input-24-a1e84dcbc1b2>:33: FutureWarning: `torch.cuda.amp.autocast(args...)` is deprecated. Please use `torch.amp.autocast('cuda', args...)` instead.\n",
            "  with autocast():\n",
            "<ipython-input-24-a1e84dcbc1b2>:50: FutureWarning: `torch.cuda.amp.autocast(args...)` is deprecated. Please use `torch.amp.autocast('cuda', args...)` instead.\n",
            "  with autocast():\n"
          ]
        },
        {
          "output_type": "stream",
          "name": "stdout",
          "text": [
            "Epoch [1/2] | Batch [0/500] | D Loss: 0.1138 | G Loss: 0.0708\n",
            "Epoch [1/2] | Batch [10/500] | D Loss: 0.0574 | G Loss: 0.0680\n",
            "Epoch [1/2] | Batch [20/500] | D Loss: 0.0237 | G Loss: 0.0665\n",
            "Epoch [1/2] | Batch [30/500] | D Loss: 0.0706 | G Loss: 0.0677\n",
            "Epoch [1/2] | Batch [40/500] | D Loss: 0.0324 | G Loss: 0.0665\n",
            "Epoch [1/2] | Batch [50/500] | D Loss: 0.0416 | G Loss: 0.0738\n",
            "Epoch [1/2] | Batch [60/500] | D Loss: 0.0834 | G Loss: 0.0676\n",
            "Epoch [1/2] | Batch [70/500] | D Loss: 0.0282 | G Loss: 0.0708\n",
            "Epoch [1/2] | Batch [80/500] | D Loss: 0.0335 | G Loss: 0.0696\n",
            "Epoch [1/2] | Batch [90/500] | D Loss: 0.0456 | G Loss: 0.0682\n",
            "Epoch [1/2] | Batch [100/500] | D Loss: 0.0578 | G Loss: 0.0671\n",
            "Epoch [1/2] | Batch [110/500] | D Loss: 0.0516 | G Loss: 0.0799\n",
            "Epoch [1/2] | Batch [120/500] | D Loss: 0.1025 | G Loss: 0.0641\n",
            "Epoch [1/2] | Batch [130/500] | D Loss: 0.0253 | G Loss: 0.0737\n",
            "Epoch [1/2] | Batch [140/500] | D Loss: 0.0669 | G Loss: 0.0546\n",
            "Epoch [1/2] | Batch [150/500] | D Loss: 0.0636 | G Loss: 0.0707\n",
            "Epoch [1/2] | Batch [160/500] | D Loss: 0.0411 | G Loss: 0.0628\n",
            "Epoch [1/2] | Batch [170/500] | D Loss: 0.0316 | G Loss: 0.0715\n",
            "Epoch [1/2] | Batch [180/500] | D Loss: 0.0293 | G Loss: 0.0662\n",
            "Epoch [1/2] | Batch [190/500] | D Loss: 0.0423 | G Loss: 0.0791\n",
            "Epoch [1/2] | Batch [200/500] | D Loss: 0.0382 | G Loss: 0.0719\n",
            "Epoch [1/2] | Batch [210/500] | D Loss: 0.0465 | G Loss: 0.0671\n",
            "Epoch [1/2] | Batch [220/500] | D Loss: 0.0202 | G Loss: 0.0772\n",
            "Epoch [1/2] | Batch [230/500] | D Loss: 0.0656 | G Loss: 0.0647\n",
            "Epoch [1/2] | Batch [240/500] | D Loss: 0.0332 | G Loss: 0.0684\n",
            "Epoch [1/2] | Batch [250/500] | D Loss: 0.0376 | G Loss: 0.0685\n",
            "Epoch [1/2] | Batch [260/500] | D Loss: 0.0348 | G Loss: 0.0694\n",
            "Epoch [1/2] | Batch [270/500] | D Loss: 0.0977 | G Loss: 0.0726\n",
            "Epoch [1/2] | Batch [280/500] | D Loss: 0.0547 | G Loss: 0.0651\n",
            "Epoch [1/2] | Batch [290/500] | D Loss: 0.0718 | G Loss: 0.0553\n",
            "Epoch [1/2] | Batch [300/500] | D Loss: 0.0373 | G Loss: 0.0649\n",
            "Epoch [1/2] | Batch [310/500] | D Loss: 0.0256 | G Loss: 0.0605\n",
            "Epoch [1/2] | Batch [320/500] | D Loss: 0.0626 | G Loss: 0.0699\n",
            "Epoch [1/2] | Batch [330/500] | D Loss: 0.0906 | G Loss: 0.0583\n",
            "Epoch [1/2] | Batch [340/500] | D Loss: 0.0231 | G Loss: 0.0711\n",
            "Epoch [1/2] | Batch [350/500] | D Loss: 0.0283 | G Loss: 0.0643\n",
            "Epoch [1/2] | Batch [360/500] | D Loss: 0.0623 | G Loss: 0.0666\n",
            "Epoch [1/2] | Batch [370/500] | D Loss: 0.0415 | G Loss: 0.0619\n",
            "Epoch [1/2] | Batch [380/500] | D Loss: 0.0304 | G Loss: 0.0649\n",
            "Epoch [1/2] | Batch [390/500] | D Loss: 0.0435 | G Loss: 0.0667\n",
            "Epoch [1/2] | Batch [400/500] | D Loss: 0.1105 | G Loss: 0.0697\n",
            "Epoch [1/2] | Batch [410/500] | D Loss: 0.0672 | G Loss: 0.0653\n",
            "Epoch [1/2] | Batch [420/500] | D Loss: 0.0377 | G Loss: 0.0738\n",
            "Epoch [1/2] | Batch [430/500] | D Loss: 0.0349 | G Loss: 0.0716\n",
            "Epoch [1/2] | Batch [440/500] | D Loss: 0.0320 | G Loss: 0.0664\n",
            "Epoch [1/2] | Batch [450/500] | D Loss: 0.0617 | G Loss: 0.0656\n",
            "Epoch [1/2] | Batch [460/500] | D Loss: 0.0220 | G Loss: 0.0732\n",
            "Epoch [1/2] | Batch [470/500] | D Loss: 0.0258 | G Loss: 0.0654\n",
            "Epoch [1/2] | Batch [480/500] | D Loss: 0.0519 | G Loss: 0.0699\n",
            "Epoch [1/2] | Batch [490/500] | D Loss: 0.0411 | G Loss: 0.0763\n",
            "Epoch 1 completed in 569.64 seconds.\n",
            "Epoch [2/2] | Batch [0/500] | D Loss: 0.0402 | G Loss: 0.0794\n",
            "Epoch [2/2] | Batch [10/500] | D Loss: 0.0581 | G Loss: 0.0678\n",
            "Epoch [2/2] | Batch [20/500] | D Loss: 0.0497 | G Loss: 0.0630\n",
            "Epoch [2/2] | Batch [30/500] | D Loss: 0.0364 | G Loss: 0.0769\n",
            "Epoch [2/2] | Batch [40/500] | D Loss: 0.0401 | G Loss: 0.0655\n",
            "Epoch [2/2] | Batch [50/500] | D Loss: 0.0795 | G Loss: 0.0668\n",
            "Epoch [2/2] | Batch [60/500] | D Loss: 0.0232 | G Loss: 0.0653\n",
            "Epoch [2/2] | Batch [70/500] | D Loss: 0.1069 | G Loss: 0.0631\n",
            "Epoch [2/2] | Batch [80/500] | D Loss: 0.0455 | G Loss: 0.0615\n",
            "Epoch [2/2] | Batch [90/500] | D Loss: 0.0308 | G Loss: 0.0712\n",
            "Epoch [2/2] | Batch [100/500] | D Loss: 0.0248 | G Loss: 0.0662\n",
            "Epoch [2/2] | Batch [110/500] | D Loss: 0.0422 | G Loss: 0.0677\n",
            "Epoch [2/2] | Batch [120/500] | D Loss: 0.0281 | G Loss: 0.0661\n",
            "Epoch [2/2] | Batch [130/500] | D Loss: 0.0964 | G Loss: 0.0688\n",
            "Epoch [2/2] | Batch [140/500] | D Loss: 0.0468 | G Loss: 0.0635\n",
            "Epoch [2/2] | Batch [150/500] | D Loss: 0.0507 | G Loss: 0.0689\n",
            "Epoch [2/2] | Batch [160/500] | D Loss: 0.0931 | G Loss: 0.0672\n",
            "Epoch [2/2] | Batch [170/500] | D Loss: 0.2045 | G Loss: 0.0648\n",
            "Epoch [2/2] | Batch [180/500] | D Loss: 0.0204 | G Loss: 0.0650\n"
          ]
        }
      ],
      "source": [
        "import time\n",
        "import os\n",
        "import torch\n",
        "import torchvision.utils as vutils\n",
        "from torch.cuda.amp import autocast, GradScaler\n",
        "\n",
        "os.makedirs(\"models\", exist_ok=True)\n",
        "os.makedirs(\"results\", exist_ok=True)\n",
        "\n",
        "device = torch.device(\"cuda\" if torch.cuda.is_available() else \"cpu\")\n",
        "\n",
        "num_epochs = 2\n",
        "save_interval = 1\n",
        "scaler = GradScaler()\n",
        "\n",
        "# Overwrite schedulers with custom steps (if needed)\n",
        "scheduler_G = torch.optim.lr_scheduler.StepLR(optimizer_G, step_size=20, gamma=0.7)\n",
        "scheduler_D = torch.optim.lr_scheduler.StepLR(optimizer_D, step_size=20, gamma=0.7)\n",
        "\n",
        "for epoch in range(num_epochs):\n",
        "    start_time = time.time()\n",
        "\n",
        "    for i, (lr_imgs, hr_imgs) in enumerate(train_dataloader):\n",
        "        lr_imgs, hr_imgs = lr_imgs.to(device), hr_imgs.to(device)\n",
        "\n",
        "        # Fix: Change batch size to 8 to match the data loader's batch size\n",
        "        real_labels = torch.ones((hr_imgs.shape[0], 1), device=device)\n",
        "        fake_labels = torch.zeros((hr_imgs.shape[0], 1), device=device)\n",
        "        # hr_imgs += 0.05 * torch.randn_like(hr_imgs)\n",
        "\n",
        "        # --- Train Discriminator ---\n",
        "        optimizer_D.zero_grad()\n",
        "        with autocast():\n",
        "            real_preds = discriminator(hr_imgs)\n",
        "            real_loss = adversarial_loss(real_preds, real_labels)\n",
        "\n",
        "            fake_imgs = generator(lr_imgs).detach()\n",
        "            fake_preds = discriminator(fake_imgs)\n",
        "            fake_loss = adversarial_loss(fake_preds, fake_labels)\n",
        "\n",
        "            d_loss = (real_loss + fake_loss) / 2\n",
        "\n",
        "        scaler.scale(d_loss).backward()\n",
        "        torch.nn.utils.clip_grad_norm_(discriminator.parameters(), max_norm=0.5)\n",
        "        scaler.step(optimizer_D)\n",
        "        scaler.update()\n",
        "\n",
        "        # --- Train Generator ---\n",
        "        optimizer_G.zero_grad()\n",
        "        with autocast():\n",
        "            fake_imgs = generator(lr_imgs)\n",
        "            pred_fake = discriminator(fake_imgs)\n",
        "            g_adv_loss = adversarial_loss(pred_fake, real_labels)\n",
        "\n",
        "            fake_features = feature_extractor(fake_imgs)\n",
        "            real_features = feature_extractor(hr_imgs)\n",
        "            g_content_loss = content_loss(fake_features, real_features)\n",
        "            g_pixel_loss = pixel_loss(fake_imgs, hr_imgs)\n",
        "\n",
        "            g_loss = 0.006 * g_adv_loss + 1.0 * g_content_loss + 1.0 * g_pixel_loss\n",
        "\n",
        "        scaler.scale(g_loss).backward()\n",
        "        torch.nn.utils.clip_grad_norm_(generator.parameters(), max_norm=0.5)\n",
        "        scaler.step(optimizer_G)\n",
        "        scaler.update()\n",
        "\n",
        "        if i % 10 == 0:\n",
        "            print(f\"Epoch [{epoch+1}/{num_epochs}] | Batch [{i}/{len(train_dataloader)}] | \"\n",
        "                  f\"D Loss: {d_loss.item():.4f} | G Loss: {g_loss.item():.4f}\")\n",
        "\n",
        "    scheduler_G.step()\n",
        "    scheduler_D.step()\n",
        "\n",
        "    vutils.save_image(fake_imgs[:4], f\"results/epoch_{epoch+1}.png\", normalize=True)\n",
        "\n",
        "    if (epoch + 1) % save_interval == 0:\n",
        "        torch.save(generator.state_dict(), f\"models/generator_epoch_{epoch+1}.pth\")\n",
        "        torch.save(discriminator.state_dict(), f\"models/discriminator_epoch_{epoch+1}.pth\")\n",
        "\n",
        "    print(f\"Epoch {epoch+1} completed in {time.time() - start_time:.2f} seconds.\")"
      ]
    },
    {
      "cell_type": "code",
      "execution_count": null,
      "metadata": {
        "id": "kVyzqjgdYbZE",
        "colab": {
          "base_uri": "https://localhost:8080/"
        },
        "outputId": "04e20f05-f765-4e32-99b6-681636428c41"
      },
      "outputs": [
        {
          "output_type": "stream",
          "name": "stderr",
          "text": [
            "\r  0%|          | 0/125 [00:00<?, ?it/s]<ipython-input-23-e4a11301c839>:18: FutureWarning: `torch.cuda.amp.autocast(args...)` is deprecated. Please use `torch.amp.autocast('cuda', args...)` instead.\n",
            "  with autocast():\n",
            "100%|██████████| 125/125 [05:06<00:00,  2.46s/it]"
          ]
        },
        {
          "output_type": "stream",
          "name": "stdout",
          "text": [
            "✅ Inference complete. Check test_results folder.\n"
          ]
        },
        {
          "output_type": "stream",
          "name": "stderr",
          "text": [
            "\n"
          ]
        }
      ],
      "source": [
        "import os\n",
        "import torch\n",
        "import torchvision.utils as vutils\n",
        "from torch.cuda.amp import autocast\n",
        "from tqdm import tqdm\n",
        "import torchvision.transforms as transforms\n",
        "\n",
        "# === Paths & Setup ===\n",
        "device = torch.device(\"cuda\" if torch.cuda.is_available() else \"cpu\")\n",
        "os.makedirs(\"test_results\", exist_ok=True)\n",
        "\n",
        "\n",
        "# === Inference with Dataloader ===\n",
        "with torch.no_grad():\n",
        "    for idx, (lr_imgs, hr_imgs) in enumerate(tqdm(test_dataloader)):\n",
        "        lr_imgs, hr_imgs = lr_imgs.to(device), hr_imgs.to(device)\n",
        "\n",
        "        with autocast():\n",
        "            sr_imgs = generator(lr_imgs)\n",
        "\n",
        "        # Clamp if output is in [-1, 1]\n",
        "        sr_imgs = sr_imgs.clamp(-1, 1)\n",
        "        sr_imgs = (sr_imgs + 1) / 2  # Normalize to [0, 1] for saving\n",
        "        lr_imgs = (lr_imgs + 1) / 2\n",
        "        hr_imgs = (hr_imgs + 1) / 2\n",
        "\n",
        "        # Resize lr_imgs to match the size of sr_imgs and hr_imgs before concatenation\n",
        "        lr_imgs_resized = transforms.Resize((512, 512), interpolation=transforms.InterpolationMode.BICUBIC)(lr_imgs)\n",
        "\n",
        "        # Optional: save side-by-side image comparison\n",
        "        comparison = torch.cat([lr_imgs_resized, sr_imgs, hr_imgs], dim=0)  # Concatenate along batch dimension\n",
        "        vutils.save_image(comparison, f\"test_results/compare_{idx+1}.png\", nrow=lr_imgs.shape[0], normalize=True)\n",
        "\n",
        "        # Or just save SR\n",
        "        # vutils.save_image(sr_imgs, f\"test_results/sr_{idx+1}.png\", normalize=True)\n",
        "\n",
        "print(\"✅ Inference complete. Check test_results folder.\")"
      ]
    },
    {
      "cell_type": "code",
      "source": [],
      "metadata": {
        "id": "7HK9t8bTYt-P"
      },
      "execution_count": null,
      "outputs": []
    }
  ],
  "metadata": {
    "colab": {
      "provenance": []
    },
    "kernelspec": {
      "display_name": "Python 3",
      "name": "python3"
    },
    "language_info": {
      "name": "python"
    }
  },
  "nbformat": 4,
  "nbformat_minor": 0
}